{
 "cells": [
  {
   "cell_type": "markdown",
   "id": "60d96555",
   "metadata": {},
   "source": [
    "# Data Processing\n",
    "\n",
    "## Goals\n",
    "\n",
    "This program aims to:\n",
    "- Get us a brief looking of the missing data\n",
    "- Deal with the missing data\n",
    "- Create an initial data visualization"
   ]
  },
  {
   "cell_type": "code",
   "execution_count": 2,
   "id": "010b5a0d",
   "metadata": {},
   "outputs": [],
   "source": [
    "import numpy as np\n",
    "import pandas as pd\n",
    "import matplotlib.pyplot as plt"
   ]
  },
  {
   "cell_type": "code",
   "execution_count": 5,
   "id": "9a06e40d",
   "metadata": {},
   "outputs": [
    {
     "data": {
      "text/html": [
       "<div>\n",
       "<style scoped>\n",
       "    .dataframe tbody tr th:only-of-type {\n",
       "        vertical-align: middle;\n",
       "    }\n",
       "\n",
       "    .dataframe tbody tr th {\n",
       "        vertical-align: top;\n",
       "    }\n",
       "\n",
       "    .dataframe thead th {\n",
       "        text-align: right;\n",
       "    }\n",
       "</style>\n",
       "<table border=\"1\" class=\"dataframe\">\n",
       "  <thead>\n",
       "    <tr style=\"text-align: right;\">\n",
       "      <th></th>\n",
       "      <th>Quarter</th>\n",
       "      <th>Postal code</th>\n",
       "      <th>Building type</th>\n",
       "      <th>Price per square meter (EUR/m2)</th>\n",
       "    </tr>\n",
       "  </thead>\n",
       "  <tbody>\n",
       "    <tr>\n",
       "      <th>0</th>\n",
       "      <td>2010Q1</td>\n",
       "      <td>00100 Helsinki Keskusta - Etu-Töölö   (Helsinki )</td>\n",
       "      <td>Blocks of flats, one-room flat</td>\n",
       "      <td>5458</td>\n",
       "    </tr>\n",
       "    <tr>\n",
       "      <th>1</th>\n",
       "      <td>2010Q1</td>\n",
       "      <td>00100 Helsinki Keskusta - Etu-Töölö   (Helsinki )</td>\n",
       "      <td>Blocks of flats, two-room flat</td>\n",
       "      <td>5164</td>\n",
       "    </tr>\n",
       "    <tr>\n",
       "      <th>2</th>\n",
       "      <td>2010Q1</td>\n",
       "      <td>00100 Helsinki Keskusta - Etu-Töölö   (Helsinki )</td>\n",
       "      <td>Blocks of flats, three-room flat+</td>\n",
       "      <td>4944</td>\n",
       "    </tr>\n",
       "    <tr>\n",
       "      <th>3</th>\n",
       "      <td>2010Q1</td>\n",
       "      <td>00120 Punavuori   (Helsinki )</td>\n",
       "      <td>Blocks of flats, one-room flat</td>\n",
       "      <td>5515</td>\n",
       "    </tr>\n",
       "    <tr>\n",
       "      <th>4</th>\n",
       "      <td>2010Q1</td>\n",
       "      <td>00120 Punavuori   (Helsinki )</td>\n",
       "      <td>Blocks of flats, two-room flat</td>\n",
       "      <td>5349</td>\n",
       "    </tr>\n",
       "    <tr>\n",
       "      <th>5</th>\n",
       "      <td>2010Q1</td>\n",
       "      <td>00120 Punavuori   (Helsinki )</td>\n",
       "      <td>Blocks of flats, three-room flat+</td>\n",
       "      <td>6236</td>\n",
       "    </tr>\n",
       "    <tr>\n",
       "      <th>6</th>\n",
       "      <td>2010Q1</td>\n",
       "      <td>00130 Kaartinkaupunki   (Helsinki )</td>\n",
       "      <td>Blocks of flats, one-room flat</td>\n",
       "      <td>..</td>\n",
       "    </tr>\n",
       "    <tr>\n",
       "      <th>7</th>\n",
       "      <td>2010Q1</td>\n",
       "      <td>00130 Kaartinkaupunki   (Helsinki )</td>\n",
       "      <td>Blocks of flats, two-room flat</td>\n",
       "      <td>..</td>\n",
       "    </tr>\n",
       "    <tr>\n",
       "      <th>8</th>\n",
       "      <td>2010Q1</td>\n",
       "      <td>00130 Kaartinkaupunki   (Helsinki )</td>\n",
       "      <td>Blocks of flats, three-room flat+</td>\n",
       "      <td>5145</td>\n",
       "    </tr>\n",
       "    <tr>\n",
       "      <th>9</th>\n",
       "      <td>2010Q1</td>\n",
       "      <td>00140 Kaivopuisto - Ullanlinna   (Helsinki )</td>\n",
       "      <td>Blocks of flats, one-room flat</td>\n",
       "      <td>5525</td>\n",
       "    </tr>\n",
       "  </tbody>\n",
       "</table>\n",
       "</div>"
      ],
      "text/plain": [
       "  Quarter                                        Postal code  \\\n",
       "0  2010Q1  00100 Helsinki Keskusta - Etu-Töölö   (Helsinki )   \n",
       "1  2010Q1  00100 Helsinki Keskusta - Etu-Töölö   (Helsinki )   \n",
       "2  2010Q1  00100 Helsinki Keskusta - Etu-Töölö   (Helsinki )   \n",
       "3  2010Q1                      00120 Punavuori   (Helsinki )   \n",
       "4  2010Q1                      00120 Punavuori   (Helsinki )   \n",
       "5  2010Q1                      00120 Punavuori   (Helsinki )   \n",
       "6  2010Q1                00130 Kaartinkaupunki   (Helsinki )   \n",
       "7  2010Q1                00130 Kaartinkaupunki   (Helsinki )   \n",
       "8  2010Q1                00130 Kaartinkaupunki   (Helsinki )   \n",
       "9  2010Q1       00140 Kaivopuisto - Ullanlinna   (Helsinki )   \n",
       "\n",
       "                       Building type Price per square meter (EUR/m2)  \n",
       "0     Blocks of flats, one-room flat                            5458  \n",
       "1     Blocks of flats, two-room flat                            5164  \n",
       "2  Blocks of flats, three-room flat+                            4944  \n",
       "3     Blocks of flats, one-room flat                            5515  \n",
       "4     Blocks of flats, two-room flat                            5349  \n",
       "5  Blocks of flats, three-room flat+                            6236  \n",
       "6     Blocks of flats, one-room flat                              ..  \n",
       "7     Blocks of flats, two-room flat                              ..  \n",
       "8  Blocks of flats, three-room flat+                            5145  \n",
       "9     Blocks of flats, one-room flat                            5525  "
      ]
     },
     "execution_count": 5,
     "metadata": {},
     "output_type": "execute_result"
    }
   ],
   "source": [
    "# there seems to be some ASCII character encoded in the raw data file\n",
    "# in order to make pandas able to read the file, I added 'encoding = \"unicode_escape\"'\n",
    "\n",
    "df = pd.read_csv(\"data_raw.csv\", encoding = \"unicode_escape\")\n",
    "\n",
    "df.head(10)"
   ]
  },
  {
   "cell_type": "code",
   "execution_count": 9,
   "id": "f45af620",
   "metadata": {},
   "outputs": [
    {
     "data": {
      "text/html": [
       "<div>\n",
       "<style scoped>\n",
       "    .dataframe tbody tr th:only-of-type {\n",
       "        vertical-align: middle;\n",
       "    }\n",
       "\n",
       "    .dataframe tbody tr th {\n",
       "        vertical-align: top;\n",
       "    }\n",
       "\n",
       "    .dataframe thead th {\n",
       "        text-align: right;\n",
       "    }\n",
       "</style>\n",
       "<table border=\"1\" class=\"dataframe\">\n",
       "  <thead>\n",
       "    <tr style=\"text-align: right;\">\n",
       "      <th></th>\n",
       "      <th>quater</th>\n",
       "      <th>postal_code</th>\n",
       "      <th>room</th>\n",
       "      <th>price</th>\n",
       "    </tr>\n",
       "  </thead>\n",
       "  <tbody>\n",
       "    <tr>\n",
       "      <th>0</th>\n",
       "      <td>2010Q1</td>\n",
       "      <td>00100 Helsinki Keskusta - Etu-Töölö   (Helsinki )</td>\n",
       "      <td>Blocks of flats, one-room flat</td>\n",
       "      <td>5458</td>\n",
       "    </tr>\n",
       "    <tr>\n",
       "      <th>1</th>\n",
       "      <td>2010Q1</td>\n",
       "      <td>00100 Helsinki Keskusta - Etu-Töölö   (Helsinki )</td>\n",
       "      <td>Blocks of flats, two-room flat</td>\n",
       "      <td>5164</td>\n",
       "    </tr>\n",
       "    <tr>\n",
       "      <th>2</th>\n",
       "      <td>2010Q1</td>\n",
       "      <td>00100 Helsinki Keskusta - Etu-Töölö   (Helsinki )</td>\n",
       "      <td>Blocks of flats, three-room flat+</td>\n",
       "      <td>4944</td>\n",
       "    </tr>\n",
       "    <tr>\n",
       "      <th>3</th>\n",
       "      <td>2010Q1</td>\n",
       "      <td>00120 Punavuori   (Helsinki )</td>\n",
       "      <td>Blocks of flats, one-room flat</td>\n",
       "      <td>5515</td>\n",
       "    </tr>\n",
       "    <tr>\n",
       "      <th>4</th>\n",
       "      <td>2010Q1</td>\n",
       "      <td>00120 Punavuori   (Helsinki )</td>\n",
       "      <td>Blocks of flats, two-room flat</td>\n",
       "      <td>5349</td>\n",
       "    </tr>\n",
       "  </tbody>\n",
       "</table>\n",
       "</div>"
      ],
      "text/plain": [
       "   quater                                        postal_code  \\\n",
       "0  2010Q1  00100 Helsinki Keskusta - Etu-Töölö   (Helsinki )   \n",
       "1  2010Q1  00100 Helsinki Keskusta - Etu-Töölö   (Helsinki )   \n",
       "2  2010Q1  00100 Helsinki Keskusta - Etu-Töölö   (Helsinki )   \n",
       "3  2010Q1                      00120 Punavuori   (Helsinki )   \n",
       "4  2010Q1                      00120 Punavuori   (Helsinki )   \n",
       "\n",
       "                                room price  \n",
       "0     Blocks of flats, one-room flat  5458  \n",
       "1     Blocks of flats, two-room flat  5164  \n",
       "2  Blocks of flats, three-room flat+  4944  \n",
       "3     Blocks of flats, one-room flat  5515  \n",
       "4     Blocks of flats, two-room flat  5349  "
      ]
     },
     "execution_count": 9,
     "metadata": {},
     "output_type": "execute_result"
    }
   ],
   "source": [
    "# change the column names\n",
    "\n",
    "# we can observe in the Building type column that they are all flats, the difference is the number of rooms\n",
    "# therefore, I will change the column name to \"room\"\n",
    "\n",
    "# I also change to name of the price per square meter to \"price\", the unit is EUR/m2\n",
    "\n",
    "df.columns = [\"quater\", \"postal_code\", \"room\", \"price\"]\n",
    "\n",
    "df.head(5)"
   ]
  },
  {
   "cell_type": "code",
   "execution_count": 10,
   "id": "d5fa73d7",
   "metadata": {},
   "outputs": [
    {
     "data": {
      "text/plain": [
       "(23616, 4)"
      ]
     },
     "execution_count": 10,
     "metadata": {},
     "output_type": "execute_result"
    }
   ],
   "source": [
    "# get the information about the length of the dataframe\n",
    "# from the out[] below, we can see that there are 4 columns, 23616 rows\n",
    "\n",
    "df.shape"
   ]
  },
  {
   "cell_type": "code",
   "execution_count": 11,
   "id": "fd22af1b",
   "metadata": {},
   "outputs": [
    {
     "data": {
      "text/plain": [
       "0"
      ]
     },
     "execution_count": 11,
     "metadata": {},
     "output_type": "execute_result"
    }
   ],
   "source": [
    "# next, we want to count how many data is missing in the column price per square meter\n",
    "\n"
   ]
  },
  {
   "cell_type": "code",
   "execution_count": null,
   "id": "825e8834",
   "metadata": {},
   "outputs": [],
   "source": []
  }
 ],
 "metadata": {
  "kernelspec": {
   "display_name": "Python 3 (ipykernel)",
   "language": "python",
   "name": "python3"
  },
  "language_info": {
   "codemirror_mode": {
    "name": "ipython",
    "version": 3
   },
   "file_extension": ".py",
   "mimetype": "text/x-python",
   "name": "python",
   "nbconvert_exporter": "python",
   "pygments_lexer": "ipython3",
   "version": "3.9.7"
  }
 },
 "nbformat": 4,
 "nbformat_minor": 5
}
