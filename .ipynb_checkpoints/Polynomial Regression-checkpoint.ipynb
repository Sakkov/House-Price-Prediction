{
 "cells": [
  {
   "cell_type": "code",
   "execution_count": 2,
   "id": "905897a4",
   "metadata": {},
   "outputs": [],
   "source": [
    "import numpy as np\n",
    "import pandas as pd\n",
    "import matplotlib.pyplot as plt\n",
    "from sklearn.preprocessing import PolynomialFeatures    # function to generate polynomial and interaction features\n",
    "from sklearn.linear_model import LinearRegression, HuberRegressor    # classes providing Linear Regression with ordinary squared error loss and Huber loss, respectively\n",
    "from sklearn.metrics import mean_squared_error  \n",
    "from sklearn.model_selection import train_test_split"
   ]
  },
  {
   "cell_type": "markdown",
   "id": "d0c5494e",
   "metadata": {},
   "source": [
    "### Importing and processing the dataset"
   ]
  },
  {
   "cell_type": "code",
   "execution_count": 3,
   "id": "f0f3afbf",
   "metadata": {},
   "outputs": [
    {
     "data": {
      "text/html": [
       "<div>\n",
       "<style scoped>\n",
       "    .dataframe tbody tr th:only-of-type {\n",
       "        vertical-align: middle;\n",
       "    }\n",
       "\n",
       "    .dataframe tbody tr th {\n",
       "        vertical-align: top;\n",
       "    }\n",
       "\n",
       "    .dataframe thead th {\n",
       "        text-align: right;\n",
       "    }\n",
       "</style>\n",
       "<table border=\"1\" class=\"dataframe\">\n",
       "  <thead>\n",
       "    <tr style=\"text-align: right;\">\n",
       "      <th></th>\n",
       "      <th>city</th>\n",
       "      <th>date_count</th>\n",
       "      <th>postal_code</th>\n",
       "      <th>room</th>\n",
       "      <th>price</th>\n",
       "    </tr>\n",
       "  </thead>\n",
       "  <tbody>\n",
       "    <tr>\n",
       "      <th>0</th>\n",
       "      <td>Helsinki</td>\n",
       "      <td>1</td>\n",
       "      <td>100</td>\n",
       "      <td>1</td>\n",
       "      <td>5458</td>\n",
       "    </tr>\n",
       "    <tr>\n",
       "      <th>1</th>\n",
       "      <td>Helsinki</td>\n",
       "      <td>1</td>\n",
       "      <td>100</td>\n",
       "      <td>2</td>\n",
       "      <td>5164</td>\n",
       "    </tr>\n",
       "    <tr>\n",
       "      <th>2</th>\n",
       "      <td>Helsinki</td>\n",
       "      <td>1</td>\n",
       "      <td>100</td>\n",
       "      <td>3</td>\n",
       "      <td>4944</td>\n",
       "    </tr>\n",
       "    <tr>\n",
       "      <th>3</th>\n",
       "      <td>Helsinki</td>\n",
       "      <td>1</td>\n",
       "      <td>120</td>\n",
       "      <td>1</td>\n",
       "      <td>5515</td>\n",
       "    </tr>\n",
       "    <tr>\n",
       "      <th>4</th>\n",
       "      <td>Helsinki</td>\n",
       "      <td>1</td>\n",
       "      <td>120</td>\n",
       "      <td>2</td>\n",
       "      <td>5349</td>\n",
       "    </tr>\n",
       "  </tbody>\n",
       "</table>\n",
       "</div>"
      ],
      "text/plain": [
       "        city  date_count  postal_code  room  price\n",
       "0  Helsinki            1          100     1   5458\n",
       "1  Helsinki            1          100     2   5164\n",
       "2  Helsinki            1          100     3   4944\n",
       "3  Helsinki            1          120     1   5515\n",
       "4  Helsinki            1          120     2   5349"
      ]
     },
     "execution_count": 3,
     "metadata": {},
     "output_type": "execute_result"
    }
   ],
   "source": [
    "# import the cleaned data file\n",
    "\n",
    "df = pd.read_csv(\"data_cleaned.csv\")\n",
    "\n",
    "df.head(5)"
   ]
  },
  {
   "cell_type": "code",
   "execution_count": 4,
   "id": "7962ed14",
   "metadata": {},
   "outputs": [],
   "source": [
    "\"\"\"\n",
    "From the dataframe select specific properties as features and labels:\n",
    "    1. Select \"date_count\", \"postal_code\", \"room\" as features X\n",
    "    2. Select \"price\" as labels y\n",
    "\"\"\"\n",
    "\n",
    "X = df[[\"date_count\", \"postal_code\", \"room\"]].to_numpy()\n",
    "y = df[\"price\"].to_numpy()\n",
    "\n",
    "## sanity check the value of feature matrix and label vector\n",
    "assert np.array_equal(X[0], [1, 100, 1]), \"Feature matrix value is incorrect\"\n",
    "assert np.array_equal(y[0], 5458), \"Label vector value is incorrect\"\n",
    "\n",
    "## sanity check the shape of feature matrix and label vector\n",
    "assert X.shape == (7480, 3), \"The shape of X is incorrect!\"\n",
    "assert y.shape == (7480,), \"The shape of y is incorrect!\""
   ]
  },
  {
   "cell_type": "markdown",
   "id": "33b2e21e",
   "metadata": {},
   "source": [
    "### Splitting dataset into train/validation/test data"
   ]
  },
  {
   "cell_type": "code",
   "execution_count": 5,
   "id": "a8f8229a",
   "metadata": {},
   "outputs": [],
   "source": [
    "# Split dataset with ratio 60-20-20 for test-validation-training respectively\n",
    "\n",
    "X_train, X_rem, y_train, y_rem = train_test_split(X, y, test_size=0.4, random_state=42)\n",
    "\n",
    "# Sanity check the percentage of the remaining data up to 1%\n",
    "assert np.isclose(0.4, X_rem.shape[0] / X.shape[0], atol=0.01)\n",
    "\n",
    "X_val, X_test, y_val, y_test = train_test_split(X_rem, y_rem, test_size = 0.5, random_state=42)\n",
    "\n",
    "# Sanity check the percentage of the remainig data up to 1%\n",
    "assert np.isclose(0.5, X_test.shape[0] / X_rem.shape[0], atol=0.01)"
   ]
  },
  {
   "cell_type": "markdown",
   "id": "b9007428",
   "metadata": {},
   "source": [
    "After completing this step, three datasets are created:<br>\n",
    "**X_train and y_train**<br>\n",
    "**X_val and y_val**<br>\n",
    "**X_test and y_test**<br>\n",
    "\n",
    "They will be used in the model training/validation/testing below."
   ]
  },
  {
   "cell_type": "code",
   "execution_count": 6,
   "id": "2e2e6e0a",
   "metadata": {},
   "outputs": [
    {
     "ename": "NameError",
     "evalue": "name 'degrees' is not defined",
     "output_type": "error",
     "traceback": [
      "\u001b[1;31m---------------------------------------------------------------------------\u001b[0m",
      "\u001b[1;31mNameError\u001b[0m                                 Traceback (most recent call last)",
      "\u001b[1;32m~\\AppData\\Local\\Temp/ipykernel_12656/2806173552.py\u001b[0m in \u001b[0;36m<module>\u001b[1;34m\u001b[0m\n\u001b[0;32m      3\u001b[0m \u001b[1;33m\u001b[0m\u001b[0m\n\u001b[0;32m      4\u001b[0m \u001b[0mdegress\u001b[0m \u001b[1;33m=\u001b[0m \u001b[0mnp\u001b[0m\u001b[1;33m.\u001b[0m\u001b[0marange\u001b[0m\u001b[1;33m(\u001b[0m\u001b[1;36m2\u001b[0m\u001b[1;33m,\u001b[0m \u001b[1;36m11\u001b[0m\u001b[1;33m)\u001b[0m\u001b[1;33m.\u001b[0m\u001b[0mtolist\u001b[0m\u001b[1;33m(\u001b[0m\u001b[1;33m)\u001b[0m\u001b[1;33m\u001b[0m\u001b[1;33m\u001b[0m\u001b[0m\n\u001b[1;32m----> 5\u001b[1;33m \u001b[0mprint\u001b[0m\u001b[1;33m(\u001b[0m\u001b[0mdegrees\u001b[0m\u001b[1;33m)\u001b[0m\u001b[1;33m\u001b[0m\u001b[1;33m\u001b[0m\u001b[0m\n\u001b[0m",
      "\u001b[1;31mNameError\u001b[0m: name 'degrees' is not defined"
     ]
    }
   ],
   "source": [
    "# define a list of degrees for the polynomial\n",
    "# degree: from 2 to 10\n",
    "\n",
    "degress = np.arange(2, 11).tolist()\n",
    "print(degrees)"
   ]
  },
  {
   "cell_type": "code",
   "execution_count": null,
   "id": "7d0f33a4",
   "metadata": {},
   "outputs": [],
   "source": []
  }
 ],
 "metadata": {
  "kernelspec": {
   "display_name": "Python 3 (ipykernel)",
   "language": "python",
   "name": "python3"
  },
  "language_info": {
   "codemirror_mode": {
    "name": "ipython",
    "version": 3
   },
   "file_extension": ".py",
   "mimetype": "text/x-python",
   "name": "python",
   "nbconvert_exporter": "python",
   "pygments_lexer": "ipython3",
   "version": "3.9.7"
  }
 },
 "nbformat": 4,
 "nbformat_minor": 5
}
